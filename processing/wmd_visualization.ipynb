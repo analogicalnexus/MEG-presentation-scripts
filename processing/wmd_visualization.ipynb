{
 "cells": [
  {
   "cell_type": "code",
   "execution_count": null,
   "metadata": {},
   "outputs": [],
   "source": [
    "import numpy as np\n",
    "import matplotlib.pyplot as plt"
   ]
  },
  {
   "cell_type": "code",
   "execution_count": null,
   "metadata": {},
   "outputs": [],
   "source": [
    "#Reading data\n",
    "P_0 = np.load(\"/home/analogicalnexus/chethan/MEG-scripts/-2-1_sec/-2-1.npy\")\n",
    "P_1 = np.load(\"/home/analogicalnexus/chethan/MEG-scripts/0_5-3_5_sec/0_5-3_5.npy\")\n",
    "P_2 = np.load(\"/home/analogicalnexus/chethan/MEG-scripts/3-6_sec/3-6.npy\")\n",
    "P_3 = np.load(\"/home/analogicalnexus/chethan/MEG-scripts/5-8_sec/5-8.npy\")\n",
    "P_4 = np.load(\"/home/analogicalnexus/chethan/MEG-scripts/7-10_sec/7_5-10_5.npy\")\n",
    "P_5 = np.load(\"/home/analogicalnexus/chethan/MEG-scripts/10-12_5_sec/10-12_5.npy\")"
   ]
  },
  {
   "cell_type": "code",
   "execution_count": null,
   "metadata": {},
   "outputs": [],
   "source": [
    "X = np.concatenate((P_0[:,0:1250],P_1[:,0:1250],P_2[:,0:1000],P_3[:,0:1250],P_4[:,0:1250],P_5), axis=1)"
   ]
  },
  {
   "cell_type": "code",
   "execution_count": null,
   "metadata": {},
   "outputs": [],
   "source": [
    "# range(5,12,0.002)"
   ]
  },
  {
   "cell_type": "code",
   "execution_count": null,
   "metadata": {},
   "outputs": [],
   "source": [
    "X.shape"
   ]
  },
  {
   "cell_type": "code",
   "execution_count": null,
   "metadata": {},
   "outputs": [],
   "source": [
    "def movingaverage(interval, window_size):\n",
    "    window= np.ones(int(window_size))/float(window_size)\n",
    "    return np.convolve(interval, window, 'same')\n",
    "\n"
   ]
  },
  {
   "cell_type": "code",
   "execution_count": null,
   "metadata": {},
   "outputs": [],
   "source": [
    "freqs = np.array([[1,4],[3,7],[7,13],[13,22],[40,61],[70,141]])\n",
    "for i in range(4):\n",
    "    # Plot\n",
    "#     plt.subplots(1,2, gridspec_kw = {'width_ratios':[3, 1]})\n",
    "#     fig, ax = plt.subplots( gridspec_kw = {'height_ratios':[5, 10]})\n",
    "    X_av = []\n",
    "    X_av = movingaverage(X[i,:7000], 100)\n",
    "    fig, ax = plt.subplots()\n",
    "    plt.rcParams[\"figure.figsize\"] = [16,9]\n",
    "    ax.plot(range(-2000,12000,2), X_av, label='score')\n",
    "    ax.axhline(.5, color='k', linestyle='--', label='chance')\n",
    "    ax.set_xlabel('Times in ms')\n",
    "    ax.set_ylabel('Accuracy')  # Area Under the Curve\n",
    "    ax.legend()\n",
    "    ax.axvline(.0, color='k', linestyle='-')\n",
    "#     (r'Histogram of IQ: $\\mu=100$, $\\sigma=15$'\n",
    "    ax.set_title('Sensor space decoding of freq range %s - %s Hz'%(freqs[i,0], freqs[i,1]))\n",
    "    plt.show()\n",
    "    fig.savefig('%s-%sHz.png'%(freqs[i,0], freqs[i,1]))\n"
   ]
  },
  {
   "cell_type": "code",
   "execution_count": null,
   "metadata": {},
   "outputs": [],
   "source": [
    "fig.savefig('myfig.png')"
   ]
  },
  {
   "cell_type": "code",
   "execution_count": null,
   "metadata": {},
   "outputs": [],
   "source": [
    "freqs = np.array([[1,4],[3,7],[7,13],[13,22],[40,61],[70,141]])\n",
    "fig, ax = plt.subplots()\n",
    "plt.rcParams[\"figure.figsize\"] = [16,9]\n",
    "for i in range(4):\n",
    "    # Plot\n",
    "#     plt.subplots(1,2, gridspec_kw = {'width_ratios':[3, 1]})\n",
    "#     fig, ax = plt.subplots( gridspec_kw = {'height_ratios':[5, 10]})\n",
    "    X_av = []\n",
    "    X_av = movingaverage(X[i,:3500], 100)\n",
    "    ax.plot(range(5000,12000,2), X_av, label='score')\n",
    "    \n",
    "ax.axhline(.5, color='k', linestyle='--', label='chance')\n",
    "ax.set_xlabel('Times in ms')\n",
    "ax.set_ylabel('Accuracy')  # Area Under the Curve\n",
    "ax.legend()\n",
    "ax.axvline(.0, color='k', linestyle='-')\n",
    "#     (r'Histogram of IQ: $\\mu=100$, $\\sigma=15$'\n",
    "ax.set_title('Sensor space decoding of freq range')\n",
    "plt.show()"
   ]
  },
  {
   "cell_type": "code",
   "execution_count": null,
   "metadata": {},
   "outputs": [],
   "source": []
  }
 ],
 "metadata": {
  "kernelspec": {
   "display_name": "Python 2",
   "language": "python",
   "name": "python2"
  },
  "language_info": {
   "codemirror_mode": {
    "name": "ipython",
    "version": 2
   },
   "file_extension": ".py",
   "mimetype": "text/x-python",
   "name": "python",
   "nbconvert_exporter": "python",
   "pygments_lexer": "ipython2",
   "version": "2.7.12"
  }
 },
 "nbformat": 4,
 "nbformat_minor": 2
}
