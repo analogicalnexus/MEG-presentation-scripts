{
 "cells": [
  {
   "cell_type": "code",
   "execution_count": 1,
   "metadata": {},
   "outputs": [],
   "source": [
    "import mne\n",
    "from sklearn.decomposition import FastICA, PCA\n",
    "import warnings\n",
    "warnings.filterwarnings('ignore')"
   ]
  },
  {
   "cell_type": "code",
   "execution_count": 2,
   "metadata": {},
   "outputs": [
    {
     "name": "stdout",
     "output_type": "stream",
     "text": [
      "Using matplotlib backend: TkAgg\n"
     ]
    }
   ],
   "source": [
    "%matplotlib"
   ]
  },
  {
   "cell_type": "code",
   "execution_count": 90,
   "metadata": {},
   "outputs": [
    {
     "name": "stdout",
     "output_type": "stream",
     "text": [
      "Extracting SQD Parameters from /media/analogicalnexus/2568212B752CDB3B/MEG_Data/test_sess_data/R2501_resting_04.04.18.sqd...\n",
      "Creating Raw.info structure...\n",
      "Setting channel info structure...\n",
      "Creating Info structure...\n",
      "Current compensation grade : 0\n",
      "Reading 0 ... 59999  =      0.000 ...    59.999 secs...\n",
      "Ready.\n"
     ]
    },
    {
     "data": {
      "text/plain": [
       "<RawKIT  |  R2501_resting_04.04.18.sqd, n_channels x n_times : 193 x 60000 (60.0 sec), ~88.7 MB, data loaded>"
      ]
     },
     "execution_count": 90,
     "metadata": {},
     "output_type": "execute_result"
    }
   ],
   "source": [
    "#Reading sqd file\n",
    "input_fname = '/media/analogicalnexus/2568212B752CDB3B/MEG_Data/test_sess_data/R2501_resting_04.04.18.sqd'\n",
    "stim_list =range(160,180)\n",
    "raw=mne.io.read_raw_kit(input_fname, mrk=None, elp=None, hsp=None, stim=stim_list, slope='+', stimthresh=-1, preload=True,stim_code='channel')\n",
    "raw.load_data()\n",
    "# raw.plot()"
   ]
  },
  {
   "cell_type": "code",
   "execution_count": 91,
   "metadata": {},
   "outputs": [
    {
     "name": "stdout",
     "output_type": "stream",
     "text": [
      "Setting up band-pass filter from 0.1 - 60 Hz\n",
      "fir_design defaults to \"firwin2\" in 0.15 but will change to \"firwin\" in 0.16, set it explicitly to avoid this warning.\n",
      "l_trans_bandwidth chosen to be 0.1 Hz\n",
      "h_trans_bandwidth chosen to be 15.0 Hz\n",
      "Filter length of 66000 samples (66.000 sec) selected\n",
      "filter_length (66001) is longer than the signal (60000), distortion is likely. Reduce filter length or filter a longer signal.\n"
     ]
    }
   ],
   "source": [
    "#Band pass filter\n",
    "raw_40 = raw.filter(l_freq=0.1, h_freq=60.0)\n",
    "# raw_40.plot()"
   ]
  },
  {
   "cell_type": "code",
   "execution_count": null,
   "metadata": {
    "scrolled": true
   },
   "outputs": [],
   "source": []
  },
  {
   "cell_type": "code",
   "execution_count": 92,
   "metadata": {},
   "outputs": [],
   "source": [
    "# # compute ICA\n",
    "# ica = FastICA(n_components=193)\n",
    "# S_ = ica.fit_transform(raw_40)  # Get the estimated sources\n",
    "# A_ = ica.mixing_  # Get estimated mixing matrix"
   ]
  },
  {
   "cell_type": "code",
   "execution_count": 93,
   "metadata": {},
   "outputs": [
    {
     "name": "stdout",
     "output_type": "stream",
     "text": [
      "[]\n"
     ]
    }
   ],
   "source": [
    "events = mne.find_events(raw_40)\n",
    "print(events)"
   ]
  },
  {
   "cell_type": "code",
   "execution_count": 72,
   "metadata": {},
   "outputs": [
    {
     "ename": "IndentationError",
     "evalue": "unexpected indent (<ipython-input-72-48f312f3c2f1>, line 6)",
     "output_type": "error",
     "traceback": [
      "\u001b[0;36m  File \u001b[0;32m\"<ipython-input-72-48f312f3c2f1>\"\u001b[0;36m, line \u001b[0;32m6\u001b[0m\n\u001b[0;31m    epochs = mne.Epochs(raw_40, events, event_id, tmin, tmax, proj=False, picks=picks, baseline=baseline)\u001b[0m\n\u001b[0m    ^\u001b[0m\n\u001b[0;31mIndentationError\u001b[0m\u001b[0;31m:\u001b[0m unexpected indent\n"
     ]
    }
   ],
   "source": [
    "event_id = dict(r=155, n_r=156)  \n",
    "tmin = -.2 \n",
    "tmax = 1\n",
    "baseline = (None,0) \n",
    "picks = mne.pick_types(raw_40.info, meg=True) \n",
    " epochs = mne.Epochs(raw_40, events, event_id, tmin, tmax, proj=False, picks=picks, baseline=baseline) "
   ]
  },
  {
   "cell_type": "code",
   "execution_count": 63,
   "metadata": {},
   "outputs": [
    {
     "ename": "NameError",
     "evalue": "name 'epochs' is not defined",
     "output_type": "error",
     "traceback": [
      "\u001b[0;31m---------------------------------------------------------------------------\u001b[0m",
      "\u001b[0;31mNameError\u001b[0m                                 Traceback (most recent call last)",
      "\u001b[0;32m<ipython-input-63-24dc9f146eb2>\u001b[0m in \u001b[0;36m<module>\u001b[0;34m()\u001b[0m\n\u001b[0;32m----> 1\u001b[0;31m \u001b[0mevoked1\u001b[0m \u001b[0;34m=\u001b[0m \u001b[0mepochs\u001b[0m\u001b[0;34m[\u001b[0m\u001b[0;34m'tone1'\u001b[0m\u001b[0;34m]\u001b[0m\u001b[0;34m.\u001b[0m\u001b[0maverage\u001b[0m\u001b[0;34m(\u001b[0m\u001b[0;34m)\u001b[0m\u001b[0;34m\u001b[0m\u001b[0m\n\u001b[0m\u001b[1;32m      2\u001b[0m \u001b[0mevoked2\u001b[0m \u001b[0;34m=\u001b[0m \u001b[0mepochs\u001b[0m\u001b[0;34m[\u001b[0m\u001b[0;34m'tone2'\u001b[0m\u001b[0;34m]\u001b[0m\u001b[0;34m.\u001b[0m\u001b[0maverage\u001b[0m\u001b[0;34m(\u001b[0m\u001b[0;34m)\u001b[0m\u001b[0;34m\u001b[0m\u001b[0m\n\u001b[1;32m      3\u001b[0m \u001b[0mevoked1\u001b[0m\u001b[0;34m.\u001b[0m\u001b[0mplot\u001b[0m\u001b[0;34m(\u001b[0m\u001b[0;34m)\u001b[0m\u001b[0;34m\u001b[0m\u001b[0m\n\u001b[1;32m      4\u001b[0m \u001b[0mevoked2\u001b[0m\u001b[0;34m.\u001b[0m\u001b[0mplot\u001b[0m\u001b[0;34m(\u001b[0m\u001b[0;34m)\u001b[0m\u001b[0;34m\u001b[0m\u001b[0m\n",
      "\u001b[0;31mNameError\u001b[0m: name 'epochs' is not defined"
     ]
    }
   ],
   "source": [
    "evoked1 = epochs['tone1'].average()\n",
    "evoked2 = epochs['tone2'].average()\n",
    "evoked1.plot()\n",
    "evoked2.plot()"
   ]
  },
  {
   "cell_type": "code",
   "execution_count": null,
   "metadata": {},
   "outputs": [],
   "source": [
    "evoked1.plot(spatial_colors=True, gfp=True, ylim=dict(mag=[-300,300]))\n",
    "evoked2.plot(spatial_colors=True, gfp=True, ylim=dict(mag=[-300,300]))\n",
    "evoked1.plot_topomap(times=[.05, .10, .15],vmin=-300,vmax=300)\n",
    "evoked2.plot_topomap(times=[.05, .10, .15],vmin=-300,vmax=300)\n",
    "evoked_dict = dict() \n",
    "evoked_dict['low'] = evoked1\n",
    "evoked_dict['high'] = evoked2\n",
    "colors=dict(low=\"Crimson\",high=\"CornFlowerBlue\") \n",
    "mne.viz.plot_compare_evokeds(evoked_dict, colors=colors,\n",
    "picks=picks, gfp=True)"
   ]
  },
  {
   "cell_type": "code",
   "execution_count": null,
   "metadata": {},
   "outputs": [],
   "source": [
    "\n",
    "la=[0,1,2,3,39,41,42,43,44,52,58,67,71,80,82,83,84,85,108,130,131,132,133,134,135,136,151]\n",
    "lp=[4,5,6,7,8,9,34,36,37,38,40,45,46,47,48,49,50,75,76,77,79,87,88,90,127,129,137]\n",
    "ra=[20,22,23,24,26,59,60,61,62,63,65,89,92,95,99,100,114,115,116,117,118,145,147,148,152,155]\n",
    "rp=[14,15,16,17,18,19,25,27,28,30,53,54,56,57,66,68,69,70,94,96,97,119,121,122,143,144]\n",
    "lh=[0,1,2,3,39,41,42,43,44,52,58,67,71,80,82,83,84,85,108,130,131,132,133,134,135,136,151,4,5,6,7,8,9,34,36,37,38,40,45,46,47,48,49,50,75,76,77,79,87,88,90,127,129,137]\n",
    "rh=[20,22,23,24,26,59,60,61,62,63,65,89,92,95,99,100,114,115,116,117,118,145,147,148,152,155, 14,15,16,17,18,19,25,27,28,30,53,54,56,57,66,68,69,70,94,96,97,119,121,122,143,144]\n",
    "mne.viz.plot_compare_evokeds(evoked_dict, colors=colors,\n",
    "picks=lh, gfp=True, ylim=dict(mag=[0,100]))"
   ]
  },
  {
   "cell_type": "code",
   "execution_count": null,
   "metadata": {},
   "outputs": [],
   "source": []
  },
  {
   "cell_type": "code",
   "execution_count": null,
   "metadata": {},
   "outputs": [],
   "source": []
  },
  {
   "cell_type": "code",
   "execution_count": null,
   "metadata": {},
   "outputs": [],
   "source": []
  },
  {
   "cell_type": "code",
   "execution_count": null,
   "metadata": {},
   "outputs": [],
   "source": []
  },
  {
   "cell_type": "code",
   "execution_count": null,
   "metadata": {},
   "outputs": [],
   "source": []
  },
  {
   "cell_type": "code",
   "execution_count": null,
   "metadata": {},
   "outputs": [],
   "source": []
  },
  {
   "cell_type": "code",
   "execution_count": null,
   "metadata": {},
   "outputs": [],
   "source": []
  }
 ],
 "metadata": {
  "kernelspec": {
   "display_name": "Python 2",
   "language": "python",
   "name": "python2"
  },
  "language_info": {
   "codemirror_mode": {
    "name": "ipython",
    "version": 2
   },
   "file_extension": ".py",
   "mimetype": "text/x-python",
   "name": "python",
   "nbconvert_exporter": "python",
   "pygments_lexer": "ipython2",
   "version": "2.7.12"
  }
 },
 "nbformat": 4,
 "nbformat_minor": 2
}
