{
 "cells": [
  {
   "cell_type": "code",
   "execution_count": null,
   "metadata": {},
   "outputs": [],
   "source": [
    "import mne\n",
    "from sklearn.decomposition import FastICA, PCA\n",
    "import warnings\n",
    "warnings.filterwarnings('ignore')"
   ]
  },
  {
   "cell_type": "code",
   "execution_count": null,
   "metadata": {},
   "outputs": [],
   "source": [
    "%matplotlib"
   ]
  },
  {
   "cell_type": "code",
   "execution_count": null,
   "metadata": {},
   "outputs": [],
   "source": [
    "#Reading sqd file\n",
    "input_fname = '/media/analogicalnexus/2568212B752CDB3B/MEG_Data/test_sess_data/R2501_resting_04.04.18.sqd'\n",
    "stim_list =range(160,180)\n",
    "raw=mne.io.read_raw_kit(input_fname, mrk=None, elp=None, hsp=None, stim=stim_list, slope='+', stimthresh=-1, preload=True,stim_code='channel')\n",
    "raw.load_data()\n",
    "# raw.plot()"
   ]
  },
  {
   "cell_type": "code",
   "execution_count": null,
   "metadata": {},
   "outputs": [],
   "source": [
    "#Band pass filter\n",
    "raw_40 = raw.filter(l_freq=0.1, h_freq=60.0)\n",
    "# raw_40.plot()"
   ]
  },
  {
   "cell_type": "code",
   "execution_count": null,
   "metadata": {
    "scrolled": true
   },
   "outputs": [],
   "source": []
  },
  {
   "cell_type": "code",
   "execution_count": null,
   "metadata": {},
   "outputs": [],
   "source": [
    "# # compute ICA\n",
    "# ica = FastICA(n_components=193)\n",
    "# S_ = ica.fit_transform(raw_40)  # Get the estimated sources\n",
    "# A_ = ica.mixing_  # Get estimated mixing matrix"
   ]
  },
  {
   "cell_type": "code",
   "execution_count": null,
   "metadata": {},
   "outputs": [],
   "source": [
    "events = mne.find_events(raw_40)\n",
    "print(events)"
   ]
  },
  {
   "cell_type": "code",
   "execution_count": null,
   "metadata": {},
   "outputs": [],
   "source": [
    "event_id = dict(r=155, n_r=156)  \n",
    "tmin = -.2 \n",
    "tmax = 1\n",
    "baseline = (None,0) \n",
    "picks = mne.pick_types(raw_40.info, meg=True) \n",
    " epochs = mne.Epochs(raw_40, events, event_id, tmin, tmax, proj=False, picks=picks, baseline=baseline) "
   ]
  },
  {
   "cell_type": "code",
   "execution_count": null,
   "metadata": {},
   "outputs": [],
   "source": [
    "evoked1 = epochs['tone1'].average()\n",
    "evoked2 = epochs['tone2'].average()\n",
    "evoked1.plot()\n",
    "evoked2.plot()"
   ]
  },
  {
   "cell_type": "code",
   "execution_count": null,
   "metadata": {},
   "outputs": [],
   "source": [
    "evoked1.plot(spatial_colors=True, gfp=True, ylim=dict(mag=[-300,300]))\n",
    "evoked2.plot(spatial_colors=True, gfp=True, ylim=dict(mag=[-300,300]))\n",
    "evoked1.plot_topomap(times=[.05, .10, .15],vmin=-300,vmax=300)\n",
    "evoked2.plot_topomap(times=[.05, .10, .15],vmin=-300,vmax=300)\n",
    "evoked_dict = dict() \n",
    "evoked_dict['low'] = evoked1\n",
    "evoked_dict['high'] = evoked2\n",
    "colors=dict(low=\"Crimson\",high=\"CornFlowerBlue\") \n",
    "mne.viz.plot_compare_evokeds(evoked_dict, colors=colors,\n",
    "picks=picks, gfp=True)"
   ]
  },
  {
   "cell_type": "code",
   "execution_count": null,
   "metadata": {},
   "outputs": [],
   "source": [
    "\n",
    "la=[0,1,2,3,39,41,42,43,44,52,58,67,71,80,82,83,84,85,108,130,131,132,133,134,135,136,151]\n",
    "lp=[4,5,6,7,8,9,34,36,37,38,40,45,46,47,48,49,50,75,76,77,79,87,88,90,127,129,137]\n",
    "ra=[20,22,23,24,26,59,60,61,62,63,65,89,92,95,99,100,114,115,116,117,118,145,147,148,152,155]\n",
    "rp=[14,15,16,17,18,19,25,27,28,30,53,54,56,57,66,68,69,70,94,96,97,119,121,122,143,144]\n",
    "lh=[0,1,2,3,39,41,42,43,44,52,58,67,71,80,82,83,84,85,108,130,131,132,133,134,135,136,151,4,5,6,7,8,9,34,36,37,38,40,45,46,47,48,49,50,75,76,77,79,87,88,90,127,129,137]\n",
    "rh=[20,22,23,24,26,59,60,61,62,63,65,89,92,95,99,100,114,115,116,117,118,145,147,148,152,155, 14,15,16,17,18,19,25,27,28,30,53,54,56,57,66,68,69,70,94,96,97,119,121,122,143,144]\n",
    "mne.viz.plot_compare_evokeds(evoked_dict, colors=colors,\n",
    "picks=lh, gfp=True, ylim=dict(mag=[0,100]))"
   ]
  }
 ],
 "metadata": {
  "kernelspec": {
   "display_name": "Python 2",
   "language": "python",
   "name": "python2"
  },
  "language_info": {
   "codemirror_mode": {
    "name": "ipython",
    "version": 2
   },
   "file_extension": ".py",
   "mimetype": "text/x-python",
   "name": "python",
   "nbconvert_exporter": "python",
   "pygments_lexer": "ipython2",
   "version": "2.7.12"
  }
 },
 "nbformat": 4,
 "nbformat_minor": 2
}
