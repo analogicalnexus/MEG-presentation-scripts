{
 "cells": [
  {
   "cell_type": "code",
   "execution_count": 1,
   "metadata": {},
   "outputs": [],
   "source": [
    "import mne\n",
    "from sklearn.decomposition import FastICA, PCA\n",
    "import warnings\n",
    "from mne.preprocessing import ICA\n",
    "warnings.filterwarnings('ignore')"
   ]
  },
  {
   "cell_type": "code",
   "execution_count": 2,
   "metadata": {},
   "outputs": [
    {
     "name": "stdout",
     "output_type": "stream",
     "text": [
      "Using matplotlib backend: TkAgg\n"
     ]
    }
   ],
   "source": [
    "%matplotlib"
   ]
  },
  {
   "cell_type": "code",
   "execution_count": 3,
   "metadata": {},
   "outputs": [
    {
     "name": "stdout",
     "output_type": "stream",
     "text": [
      "Opening raw data file /media/analogicalnexus/2568212B752CDB3B/MEG_Data/NACS642_MEG_Lab_2tone_data/AssignmentData-FRESHCOPY/raw/R2218_two-tones-raw.fif...\n",
      "    Range : 0 ... 269999 =      0.000 ...   269.999 secs\n",
      "Ready.\n",
      "Current compensation grade : 0\n",
      "Reading 0 ... 269999  =      0.000 ...   269.999 secs...\n"
     ]
    },
    {
     "data": {
      "text/plain": [
       "<Raw  |  R2218_two-tones-raw.fif, n_channels x n_times : 193 x 270000 (270.0 sec), ~398.6 MB, data loaded>"
      ]
     },
     "execution_count": 3,
     "metadata": {},
     "output_type": "execute_result"
    }
   ],
   "source": [
    "#Reading sqd file\n",
    "# input_fname = '/media/analogicalnexus/2568212B752CDB3B/MEG_Data/test_sess_data/R2501_resting_04.04.18.sqd'\n",
    "input_fname =  '/media/analogicalnexus/2568212B752CDB3B/MEG_Data/NACS642_MEG_Lab_2tone_data/AssignmentData-FRESHCOPY/raw/R2218_two-tones-raw.fif'\n",
    "stim_list =range(130,188)\n",
    "raw=mne.io.read_raw_fif(input_fname)#, mrk=None, elp=None, hsp=None,slope='+', stim=stim_list, stimthresh=0.009, stim_code='channel')\n",
    "raw.load_data()\n",
    "# raw.plot()"
   ]
  },
  {
   "cell_type": "code",
   "execution_count": 4,
   "metadata": {},
   "outputs": [
    {
     "name": "stdout",
     "output_type": "stream",
     "text": [
      "Setting up band-pass filter from 0.1 - 60 Hz\n",
      "fir_design defaults to \"firwin2\" in 0.15 but will change to \"firwin\" in 0.16, set it explicitly to avoid this warning.\n",
      "l_trans_bandwidth chosen to be 0.1 Hz\n",
      "h_trans_bandwidth chosen to be 15.0 Hz\n",
      "Filter length of 66000 samples (66.000 sec) selected\n"
     ]
    }
   ],
   "source": [
    "#Band pass filter\n",
    "raw_40 = raw.filter(l_freq=0.1, h_freq=60.0)\n",
    "# raw_40.plot()"
   ]
  },
  {
   "cell_type": "code",
   "execution_count": null,
   "metadata": {
    "scrolled": true
   },
   "outputs": [],
   "source": []
  },
  {
   "cell_type": "code",
   "execution_count": 5,
   "metadata": {},
   "outputs": [],
   "source": [
    "# # compute ICA\n",
    "# ica = FastICA(n_components=150)\n",
    "# S_ = ica.fit_transform(raw_40)  # Get the estimated sources\n",
    "# A_ = ica.mixing_  # Get estimated mixing matrix"
   ]
  },
  {
   "cell_type": "code",
   "execution_count": 8,
   "metadata": {},
   "outputs": [
    {
     "name": "stdout",
     "output_type": "stream",
     "text": [
      "200 events found\n",
      "Events id: [ 9 17]\n"
     ]
    }
   ],
   "source": [
    "events = mne.find_events(raw_40)\n",
    "# print(events)"
   ]
  },
  {
   "cell_type": "code",
   "execution_count": 14,
   "metadata": {
    "scrolled": true
   },
   "outputs": [
    {
     "name": "stdout",
     "output_type": "stream",
     "text": [
      "200 matching events found\n"
     ]
    }
   ],
   "source": [
    "event_id = dict(tone1=9, tone2=17)  \n",
    "tmin = -.2 \n",
    "tmax = 0.5\n",
    "baseline = (None,0) \n",
    "picks = mne.pick_types(raw_40.info, meg=True) \n",
    "epochs = mne.Epochs(raw_40, events, event_id, tmin, tmax, proj=False, picks=picks, baseline=baseline) "
   ]
  },
  {
   "cell_type": "code",
   "execution_count": 19,
   "metadata": {},
   "outputs": [],
   "source": [
    "#ICA parameters\n",
    "n_components = 156  # if float, select n_components by explained variance of PCA\n",
    "method = 'fastica'  # for comparison with EEGLAB try \"extended-infomax\" here\n",
    "decim = 3  # we need sufficient statistics, not all time points -> saves time\n",
    "\n",
    "# we will also set state of the random number generator - ICA is a\n",
    "# non-deterministic algorithm, but we want to have the same decomposition\n",
    "# and the same order of components each time this tutorial is run\n",
    "random_state = 23"
   ]
  },
  {
   "cell_type": "code",
   "execution_count": null,
   "metadata": {},
   "outputs": [
    {
     "name": "stdout",
     "output_type": "stream",
     "text": [
      "Fitting ICA to data using 157 channels. \n",
      "Please be patient, this may take some time\n",
      "Inferring max_pca_components from picks.\n"
     ]
    }
   ],
   "source": [
    "ica = ICA(n_components=n_components, method=method, random_state=random_state)\n",
    "# print(ica)\n",
    "reject = dict(mag=5e-12, grad=4000e-13)\n",
    "ica.fit(raw, picks=picks, decim=decim, reject=reject)\n",
    "print(ica)\n",
    "ica.plot_components()"
   ]
  },
  {
   "cell_type": "code",
   "execution_count": null,
   "metadata": {},
   "outputs": [],
   "source": [
    "evoked1 = epochs['tone1'].average()\n",
    "evoked2 = epochs['tone2'].average()\n",
    "evoked1.plot()\n",
    "evoked2.plot()"
   ]
  },
  {
   "cell_type": "code",
   "execution_count": null,
   "metadata": {},
   "outputs": [],
   "source": [
    "evoked1.plot(spatial_colors=True, gfp=True, ylim=dict(mag=[-300,300]))\n",
    "evoked2.plot(spatial_colors=True, gfp=True, ylim=dict(mag=[-300,300]))\n",
    "evoked1.plot_topomap(times=[.05, .10, .15],vmin=-300,vmax=300)\n",
    "evoked2.plot_topomap(times=[.05, .10, .15],vmin=-300,vmax=300)\n",
    "evoked_dict = dict() \n",
    "evoked_dict['low'] = evoked1\n",
    "evoked_dict['high'] = evoked2\n",
    "colors=dict(low=\"Crimson\",high=\"CornFlowerBlue\") \n",
    "mne.viz.plot_compare_evokeds(evoked_dict, colors=colors,\n",
    "picks=picks, gfp=True)"
   ]
  },
  {
   "cell_type": "code",
   "execution_count": null,
   "metadata": {},
   "outputs": [],
   "source": [
    "\n",
    "la=[0,1,2,3,39,41,42,43,44,52,58,67,71,80,82,83,84,85,108,130,131,132,133,134,135,136,151]\n",
    "lp=[4,5,6,7,8,9,34,36,37,38,40,45,46,47,48,49,50,75,76,77,79,87,88,90,127,129,137]\n",
    "ra=[20,22,23,24,26,59,60,61,62,63,65,89,92,95,99,100,114,115,116,117,118,145,147,148,152,155]\n",
    "rp=[14,15,16,17,18,19,25,27,28,30,53,54,56,57,66,68,69,70,94,96,97,119,121,122,143,144]\n",
    "lh=[0,1,2,3,39,41,42,43,44,52,58,67,71,80,82,83,84,85,108,130,131,132,133,134,135,136,151,4,5,6,7,8,9,34,36,37,38,40,45,46,47,48,49,50,75,76,77,79,87,88,90,127,129,137]\n",
    "rh=[20,22,23,24,26,59,60,61,62,63,65,89,92,95,99,100,114,115,116,117,118,145,147,148,152,155, 14,15,16,17,18,19,25,27,28,30,53,54,56,57,66,68,69,70,94,96,97,119,121,122,143,144]\n",
    "mne.viz.plot_compare_evokeds(evoked_dict, colors=colors,\n",
    "picks=lh, gfp=True, ylim=dict(mag=[0,100]))"
   ]
  }
 ],
 "metadata": {
  "kernelspec": {
   "display_name": "Python 2",
   "language": "python",
   "name": "python2"
  },
  "language_info": {
   "codemirror_mode": {
    "name": "ipython",
    "version": 2
   },
   "file_extension": ".py",
   "mimetype": "text/x-python",
   "name": "python",
   "nbconvert_exporter": "python",
   "pygments_lexer": "ipython2",
   "version": "2.7.12"
  }
 },
 "nbformat": 4,
 "nbformat_minor": 2
}
