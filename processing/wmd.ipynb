{
 "cells": [
  {
   "cell_type": "markdown",
   "metadata": {},
   "source": [
    "Working Memory Decoding\n",
    "============================================"
   ]
  },
  {
   "cell_type": "code",
   "execution_count": 2,
   "metadata": {},
   "outputs": [],
   "source": [
    "import mne\n",
    "from sklearn.decomposition import FastICA, PCA\n",
    "from sklearn.pipeline import make_pipeline\n",
    "from sklearn.preprocessing import StandardScaler\n",
    "from sklearn.linear_model import LogisticRegression\n",
    "\n",
    "from mne import create_info, EpochsArray\n",
    "from mne.baseline import rescale\n",
    "from mne.time_frequency import (tfr_multitaper, tfr_stockwell, tfr_morlet,\n",
    "                                tfr_array_morlet)\n",
    "\n",
    "import warnings\n",
    "from mne.preprocessing import ICA\n",
    "warnings.filterwarnings('ignore')\n",
    "from mne import viz\n",
    "from mne.channels import Layout\n",
    "from mne.decoding import (SlidingEstimator, GeneralizingEstimator,\n",
    "                          cross_val_multiscore, LinearModel, get_coef)\n",
    "import numpy as np\n",
    "import matplotlib.pyplot as plt"
   ]
  },
  {
   "cell_type": "code",
   "execution_count": 3,
   "metadata": {
    "scrolled": true
   },
   "outputs": [
    {
     "name": "stdout",
     "output_type": "stream",
     "text": [
      "Using matplotlib backend: TkAgg\n"
     ]
    }
   ],
   "source": [
    "%matplotlib"
   ]
  },
  {
   "cell_type": "markdown",
   "metadata": {},
   "source": [
    "1 - IO\n",
    "------------------------------------"
   ]
  },
  {
   "cell_type": "code",
   "execution_count": 4,
   "metadata": {},
   "outputs": [
    {
     "name": "stdout",
     "output_type": "stream",
     "text": [
      "Opening raw data file /media/analogicalnexus/2568212B752CDB3B/MEG_Data/R2504_WMD-Filtered-raw.fif...\n",
      "    Range : 0 ... 2551999 =      0.000 ...  2551.999 secs\n",
      "Ready.\n",
      "Current compensation grade : 0\n",
      "Reading 0 ... 2551999  =      0.000 ...  2551.999 secs...\n"
     ]
    },
    {
     "data": {
      "text/plain": [
       "<Raw  |  R2504_WMD-Filtered-raw.fif, n_channels x n_times : 193 x 2552000 (2552.0 sec), ~3.67 GB, data loaded>"
      ]
     },
     "execution_count": 4,
     "metadata": {},
     "output_type": "execute_result"
    }
   ],
   "source": [
    "#Reading fif file\n",
    "input_fname = '/media/analogicalnexus/2568212B752CDB3B/MEG_Data/R2504_WMD-Filtered-raw.fif'\n",
    "raw=mne.io.read_raw_fif(input_fname)\n",
    "raw.load_data()\n",
    "# raw.plot()"
   ]
  },
  {
   "cell_type": "markdown",
   "metadata": {},
   "source": [
    "2 - Filtering - Band Pass filter (1-45 Hz)\n",
    "------------------------------------"
   ]
  },
  {
   "cell_type": "code",
   "execution_count": 5,
   "metadata": {},
   "outputs": [
    {
     "name": "stdout",
     "output_type": "stream",
     "text": [
      "Setting up band-pass filter from 1 - 45 Hz\n",
      "l_trans_bandwidth chosen to be 1.0 Hz\n",
      "h_trans_bandwidth chosen to be 11.2 Hz\n",
      "Filter length of 3301 samples (3.301 sec) selected\n"
     ]
    }
   ],
   "source": [
    "#Band pass filter\n",
    "raw_filtered = raw.filter(l_freq=1, h_freq=45.0, fir_design='firwin')\n",
    "# raw_40.plot()"
   ]
  },
  {
   "cell_type": "code",
   "execution_count": 6,
   "metadata": {},
   "outputs": [],
   "source": [
    "#Noise Cancellation\n"
   ]
  },
  {
   "cell_type": "markdown",
   "metadata": {},
   "source": [
    "3 - ICA\n",
    "------------------------------------"
   ]
  },
  {
   "cell_type": "code",
   "execution_count": 7,
   "metadata": {},
   "outputs": [],
   "source": [
    "# #Reference - https://martinos.org/mne/stable/auto_tutorials/plot_artifacts_correction_ica.html\n",
    "# #ICA parameters\n",
    "# n_components = 157  # if float, select n_components by explained variance of PCA\n",
    "# method = 'fastica'  # for comparison with EEGLAB try \"extended-infomax\" here\n",
    "# decim = 3  # we need sufficient statistics, not all time points -> saves time\n",
    "\n",
    "# # we will also set state of the random number generator - ICA is a\n",
    "# # non-deterministic algorithm, but we want to have the same decomposition\n",
    "# # and the same order of components each time this tutorial is run\n",
    "# random_state = 23"
   ]
  },
  {
   "cell_type": "code",
   "execution_count": 8,
   "metadata": {
    "scrolled": false
   },
   "outputs": [],
   "source": [
    "# ica = ICA(n_components=n_components, method=method, random_state=random_state)\n",
    "# # print(ica)\n",
    "# reject = dict(mag=5e-12, grad=4000e-13)\n",
    "# ica.fit(raw_40_ica, picks=picks, decim=decim, reject=reject)\n",
    "# print(ica)\n",
    "# ica.plot_components()"
   ]
  },
  {
   "cell_type": "code",
   "execution_count": 9,
   "metadata": {},
   "outputs": [],
   "source": [
    "# # first, component 0:\n",
    "# ica.plot_properties(raw_40_ica, picks=range(0,9))"
   ]
  },
  {
   "cell_type": "markdown",
   "metadata": {},
   "source": [
    "4 - Epoching (Segmenting )\n",
    "------------------------------------"
   ]
  },
  {
   "cell_type": "code",
   "execution_count": 10,
   "metadata": {},
   "outputs": [],
   "source": [
    "# # parameter setup for syllable decoding\n",
    "# event_id_long = dict(nw1=173,nw2=174,nw3=175,w1=163,w2=164,w3=165)\n",
    "# tmin = 4\n",
    "# tmax = 12\n",
    "# baseline = (None,None) "
   ]
  },
  {
   "cell_type": "code",
   "execution_count": 11,
   "metadata": {},
   "outputs": [
    {
     "name": "stdout",
     "output_type": "stream",
     "text": [
      "459 events found\n",
      "Events id: [163 164 165 173 174 175 178 187 188]\n"
     ]
    }
   ],
   "source": [
    "# parameter setup for rhyme/non-rhyme decoding\n",
    "events = mne.find_events(raw_filtered)\n",
    "event_id_long = dict(r=187,nr=188)\n",
    "tmin = -.2\n",
    "tmax = 1\n",
    "baseline = (None,None)"
   ]
  },
  {
   "cell_type": "code",
   "execution_count": 12,
   "metadata": {},
   "outputs": [
    {
     "name": "stdout",
     "output_type": "stream",
     "text": [
      "153 matching events found\n"
     ]
    }
   ],
   "source": [
    "#epoching\n",
    "picks = mne.pick_types(raw_filtered.info, meg=True)\n",
    "epochs = mne.Epochs(raw_filtered, events, event_id_long, tmin, tmax, proj=False, picks=picks, baseline=baseline)\n",
    "rhyme = epochs['r'].average()\n",
    "non_rhyme = epochs['nr'].average()"
   ]
  },
  {
   "cell_type": "markdown",
   "metadata": {},
   "source": [
    "5 - Sensor space analysis\n",
    "------------------------------------"
   ]
  },
  {
   "cell_type": "code",
   "execution_count": 13,
   "metadata": {},
   "outputs": [
    {
     "data": {
      "image/png": "[encoded data removed]",
      "text/plain": [
       "<matplotlib.figure.Figure at 0x7f72ec69f8d0>"
      ]
     },
     "execution_count": 13,
     "metadata": {},
     "output_type": "execute_result"
    }
   ],
   "source": [
    "rhyme.plot(spatial_colors=True, gfp=True, ylim=dict(mag=[-300,300]))\n",
    "non_rhyme.plot(spatial_colors=True, gfp=True, ylim=dict(mag=[-300,300]))\n",
    "rhyme.plot_topomap(times=[.0, .17, .4],vmin=-300,vmax=300)\n",
    "non_rhyme.plot_topomap(times=[.0, .17, .4],vmin=-300,vmax=300)\n",
    "evoked_dict = dict() \n",
    "evoked_dict['rhyme'] = rhyme\n",
    "evoked_dict['non_rhyme'] = non_rhyme\n",
    "colors=dict(rhyme=\"Crimson\",non_rhyme=\"CornFlowerBlue\") \n",
    "mne.viz.plot_compare_evokeds(evoked_dict, colors=colors,\n",
    "picks=picks, gfp=True)"
   ]
  },
  {
   "cell_type": "code",
   "execution_count": 14,
   "metadata": {},
   "outputs": [],
   "source": [
    "\n",
    "# la=[0,1,2,3,39,41,42,43,44,52,58,67,71,80,82,83,84,85,108,130,131,132,133,134,135,136,151]\n",
    "# lp=[4,5,6,7,8,9,34,36,37,38,40,45,46,47,48,49,50,75,76,77,79,87,88,90,127,129,137]\n",
    "# ra=[20,22,23,24,26,59,60,61,62,63,65,89,92,95,99,100,114,115,116,117,118,145,147,148,152,155]\n",
    "# rp=[14,15,16,17,18,19,25,27,28,30,53,54,56,57,66,68,69,70,94,96,97,119,121,122,143,144]\n",
    "# lh=[0,1,2,3,39,41,42,43,44,52,58,67,71,80,82,83,84,85,108,130,131,132,133,134,135,136,151,4,5,6,7,8,9,34,36,37,38,40,45,46,47,48,49,50,75,76,77,79,87,88,90,127,129,137]\n",
    "# rh=[20,22,23,24,26,59,60,61,62,63,65,89,92,95,99,100,114,115,116,117,118,145,147,148,152,155, 14,15,16,17,18,19,25,27,28,30,53,54,56,57,66,68,69,70,94,96,97,119,121,122,143,144]\n",
    "# mne.viz.plot_compare_evokeds(evoked_dict, colors=colors,\n",
    "# picks=lh, gfp=True, ylim=dict(mag=[0,100]))"
   ]
  },
  {
   "cell_type": "markdown",
   "metadata": {},
   "source": [
    "6 - Frequency domain analysis (PMTM)\n",
    "------------------------------------"
   ]
  },
  {
   "cell_type": "code",
   "execution_count": null,
   "metadata": {},
   "outputs": [
    {
     "name": "stdout",
     "output_type": "stream",
     "text": [
      "Loading data for 153 events and 1201 original time points ...\n"
     ]
    }
   ],
   "source": [
    "freqs = np.arange(1., 2., .5)\n",
    "vmin, vmax = -.3e-25, .3e-25  # Define our color limits.\n",
    "n_cycles = freqs / 2.\n",
    "time_bandwidth = 8.0  # Same time-smoothing as (1), 7 tapers.\n",
    "power = tfr_multitaper(epochs, freqs=freqs, n_cycles=n_cycles,\n",
    "                       time_bandwidth=time_bandwidth, return_itc=False,average=False)\n",
    "\n",
    "power = tfr_multitaper(epochs.get_data(), sfreq='1000',\n",
    "                         freqs=freqs, n_cycles=n_cycles,\n",
    "                         output='avg_power')\n",
    "# Baseline the output\n",
    "rescale(power, epochs.times, (0., 0.1), mode='mean', copy=False)\n",
    "# Plot results. Baseline correct based on first 100 ms.\n",
    "# power.plot([0], baseline=(0., 0.1), mode='mean', vmin=vmin, vmax=vmax,\n",
    "#            title='Sim: Less time smoothing, more frequency smoothing')"
   ]
  },
  {
   "cell_type": "code",
   "execution_count": null,
   "metadata": {},
   "outputs": [],
   "source": [
    "# print(power.get_data())"
   ]
  },
  {
   "cell_type": "markdown",
   "metadata": {},
   "source": [
    "7 - Decoding (MVPA)\n",
    "------------------------------------"
   ]
  },
  {
   "cell_type": "code",
   "execution_count": null,
   "metadata": {},
   "outputs": [],
   "source": [
    "X = epochs.get_data()  # MEG signals: n_epochs, n_channels, n_times\n",
    "y = epochs.events[:, 2]  # target: rhyme or non-rhyme\n",
    "\n",
    "clf = make_pipeline(StandardScaler(), LogisticRegression())\n",
    "\n",
    "time_decod = SlidingEstimator(clf, n_jobs=1, scoring='roc_auc')\n",
    "\n",
    "scores = cross_val_multiscore(time_decod, X, y, cv=5, n_jobs=1)\n",
    "\n",
    "# Mean scores across cross-validation splits\n",
    "scores = np.mean(scores, axis=0)\n",
    "\n",
    "# Plot\n",
    "fig, ax = plt.subplots()\n",
    "ax.plot(epochs.times, scores, label='score')\n",
    "ax.axhline(.5, color='k', linestyle='--', label='chance')\n",
    "ax.set_xlabel('Times')\n",
    "ax.set_ylabel('AUC')  # Area Under the Curve\n",
    "ax.legend()\n",
    "ax.axvline(.0, color='k', linestyle='-')\n",
    "ax.set_title('Sensor space decoding')\n",
    "plt.show()\n",
    "\n",
    "# You can retrieve the spatial filters and spatial patterns if you explicitly\n",
    "# use a LinearModel\n",
    "clf = make_pipeline(StandardScaler(), LinearModel(LogisticRegression()))\n",
    "time_decod = SlidingEstimator(clf, n_jobs=1, scoring='roc_auc')\n",
    "time_decod.fit(X, y)\n",
    "\n",
    "coef = get_coef(time_decod, 'patterns_', inverse_transform=True)\n",
    "evoked = mne.EvokedArray(coef, epochs.info, tmin=epochs.times[0])\n",
    "evoked.plot_joint(times=np.arange(0., .500, .100), title='patterns')"
   ]
  },
  {
   "cell_type": "code",
   "execution_count": null,
   "metadata": {},
   "outputs": [],
   "source": [
    "# define the Temporal Generalization object\n",
    "time_gen = GeneralizingEstimator(clf, n_jobs=1, scoring='roc_auc')\n",
    "\n",
    "scores = cross_val_multiscore(time_gen, X, y, cv=5, n_jobs=1)\n",
    "\n",
    "# Mean scores across cross-validation splits\n",
    "scores = np.mean(scores, axis=0)\n",
    "\n",
    "# Plot the diagonal (it's exactly the same as the time-by-time decoding above)\n",
    "fig, ax = plt.subplots()\n",
    "ax.plot(epochs.times, np.diag(scores), label='score')\n",
    "ax.axhline(.5, color='k', linestyle='--', label='chance')\n",
    "ax.set_xlabel('Times')\n",
    "ax.set_ylabel('AUC')\n",
    "ax.legend()\n",
    "ax.axvline(.0, color='k', linestyle='-')\n",
    "ax.set_title('Decoding MEG sensors over time')\n",
    "plt.show()\n",
    "\n",
    "# Plot the full matrix\n",
    "fig, ax = plt.subplots(1, 1)\n",
    "im = ax.imshow(scores, interpolation='lanczos', origin='lower', cmap='RdBu_r',\n",
    "               extent=epochs.times[[0, -1, 0, -1]], vmin=0., vmax=1.)\n",
    "ax.set_xlabel('Testing Time (s)')\n",
    "ax.set_ylabel('Training Time (s)')\n",
    "ax.set_title('Temporal Generalization')\n",
    "ax.axvline(0, color='k')\n",
    "ax.axhline(0, color='k')\n",
    "plt.colorbar(im, ax=ax)\n",
    "plt.show()"
   ]
  },
  {
   "cell_type": "code",
   "execution_count": null,
   "metadata": {},
   "outputs": [],
   "source": []
  },
  {
   "cell_type": "code",
   "execution_count": null,
   "metadata": {},
   "outputs": [],
   "source": []
  }
 ],
 "metadata": {
  "kernelspec": {
   "display_name": "Python 2",
   "language": "python",
   "name": "python2"
  },
  "language_info": {
   "codemirror_mode": {
    "name": "ipython",
    "version": 2
   },
   "file_extension": ".py",
   "mimetype": "text/x-python",
   "name": "python",
   "nbconvert_exporter": "python",
   "pygments_lexer": "ipython2",
   "version": "2.7.12"
  }
 },
 "nbformat": 4,
 "nbformat_minor": 2
}
