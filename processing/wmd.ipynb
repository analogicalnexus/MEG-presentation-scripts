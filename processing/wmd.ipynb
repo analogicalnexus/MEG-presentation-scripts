{
 "cells": [
  {
   "cell_type": "code",
   "execution_count": 1,
   "metadata": {},
   "outputs": [],
   "source": [
    "import mne\n",
    "from sklearn.decomposition import FastICA, PCA\n",
    "import warnings\n",
    "from mne.preprocessing import ICA\n",
    "warnings.filterwarnings('ignore')"
   ]
  },
  {
   "cell_type": "code",
   "execution_count": 2,
   "metadata": {},
   "outputs": [
    {
     "name": "stdout",
     "output_type": "stream",
     "text": [
      "Using matplotlib backend: TkAgg\n"
     ]
    }
   ],
   "source": [
    "%matplotlib"
   ]
  },
  {
   "cell_type": "code",
   "execution_count": 3,
   "metadata": {},
   "outputs": [
    {
     "name": "stdout",
     "output_type": "stream",
     "text": [
      "Opening raw data file /media/analogicalnexus/2568212B752CDB3B/MEG_Data/R2504_WMD-Filtered-raw.fif...\n",
      "    Range : 0 ... 2551999 =      0.000 ...  2551.999 secs\n",
      "Ready.\n",
      "Current compensation grade : 0\n",
      "Reading 0 ... 2551999  =      0.000 ...  2551.999 secs...\n"
     ]
    },
    {
     "data": {
      "text/plain": [
       "<Raw  |  R2504_WMD-Filtered-raw.fif, n_channels x n_times : 193 x 2552000 (2552.0 sec), ~3.67 GB, data loaded>"
      ]
     },
     "execution_count": 3,
     "metadata": {},
     "output_type": "execute_result"
    }
   ],
   "source": [
    "#Reading sqd file\n",
    "input_fname = '/media/analogicalnexus/2568212B752CDB3B/MEG_Data/R2504_WMD-Filtered-raw.fif'\n",
    "raw=mne.io.read_raw_fif(input_fname)\n",
    "raw.load_data()\n",
    "# raw.plot()"
   ]
  },
  {
   "cell_type": "code",
   "execution_count": 4,
   "metadata": {},
   "outputs": [
    {
     "name": "stdout",
     "output_type": "stream",
     "text": [
      "Setting up band-pass filter from 0.1 - 60 Hz\n",
      "fir_design defaults to \"firwin2\" in 0.15 but will change to \"firwin\" in 0.16, set it explicitly to avoid this warning.\n",
      "l_trans_bandwidth chosen to be 0.1 Hz\n",
      "h_trans_bandwidth chosen to be 15.0 Hz\n",
      "Filter length of 66000 samples (66.000 sec) selected\n",
      "Setting up band-pass filter from 0.1 - 60 Hz\n",
      "fir_design defaults to \"firwin2\" in 0.15 but will change to \"firwin\" in 0.16, set it explicitly to avoid this warning.\n",
      "l_trans_bandwidth chosen to be 0.1 Hz\n",
      "h_trans_bandwidth chosen to be 15.0 Hz\n",
      "Filter length of 66000 samples (66.000 sec) selected\n"
     ]
    }
   ],
   "source": [
    "#Band pass filter\n",
    "raw_40_ica = raw.filter(l_freq=0.1, h_freq=60.0)\n",
    "raw_40 = raw.filter(l_freq=0.1, h_freq=60.0)\n",
    "# raw_40.plot()"
   ]
  },
  {
   "cell_type": "code",
   "execution_count": null,
   "metadata": {
    "scrolled": true
   },
   "outputs": [],
   "source": []
  },
  {
   "cell_type": "code",
   "execution_count": null,
   "metadata": {},
   "outputs": [],
   "source": [
    "# # compute ICA\n",
    "# ica = FastICA(n_components=150)\n",
    "# S_ = ica.fit_transform(raw_40)  # Get the estimated sources\n",
    "# A_ = ica.mixing_  # Get estimated mixing matrix"
   ]
  },
  {
   "cell_type": "code",
   "execution_count": 5,
   "metadata": {},
   "outputs": [
    {
     "name": "stdout",
     "output_type": "stream",
     "text": [
      "459 events found\n",
      "Events id: [163 164 165 173 174 175 178 187 188]\n",
      "[[ 183799       0     178]\n",
      " [ 189384       0     163]\n",
      " [ 194956       0     187]\n",
      " ...\n",
      " [2508957       0     178]\n",
      " [2514520       0     175]\n",
      " [2520082       0     188]]\n"
     ]
    }
   ],
   "source": [
    "events = mne.find_events(raw_40)\n",
    "print(events)"
   ]
  },
  {
   "cell_type": "code",
   "execution_count": 7,
   "metadata": {
    "scrolled": true
   },
   "outputs": [
    {
     "name": "stdout",
     "output_type": "stream",
     "text": [
      "[  0   1   2   3   4   5   6   7   8   9  10  11  12  13  14  15  16  17\n",
      "  18  19  20  21  22  23  24  25  26  27  28  29  30  31  32  33  34  35\n",
      "  36  37  38  39  40  41  42  43  44  45  46  47  48  49  50  51  52  53\n",
      "  54  55  56  57  58  59  60  61  62  63  64  65  66  67  68  69  70  71\n",
      "  72  73  74  75  76  77  78  79  80  81  82  83  84  85  86  87  88  89\n",
      "  90  91  92  93  94  95  96  97  98  99 100 101 102 103 104 105 106 107\n",
      " 108 109 110 111 112 113 114 115 116 117 118 119 120 121 122 123 124 125\n",
      " 126 127 128 129 130 131 132 133 134 135 136 137 138 139 140 141 142 143\n",
      " 144 145 146 147 148 149 150 151 152 153 154 155 156]\n"
     ]
    }
   ],
   "source": [
    "event_id = dict(r=187, nr=188)  \n",
    "tmin = -.2 \n",
    "tmax = 0.8\n",
    "baseline = (None,0) \n",
    "picks = mne.pick_types(raw_40.info, meg=True) \n",
    "print(picks)\n"
   ]
  },
  {
   "cell_type": "code",
   "execution_count": 8,
   "metadata": {},
   "outputs": [],
   "source": [
    "#Reference - https://martinos.org/mne/stable/auto_tutorials/plot_artifacts_correction_ica.html\n",
    "#ICA parameters\n",
    "n_components = 157  # if float, select n_components by explained variance of PCA\n",
    "method = 'fastica'  # for comparison with EEGLAB try \"extended-infomax\" here\n",
    "decim = 3  # we need sufficient statistics, not all time points -> saves time\n",
    "\n",
    "# we will also set state of the random number generator - ICA is a\n",
    "# non-deterministic algorithm, but we want to have the same decomposition\n",
    "# and the same order of components each time this tutorial is run\n",
    "random_state = 23"
   ]
  },
  {
   "cell_type": "code",
   "execution_count": null,
   "metadata": {},
   "outputs": [
    {
     "name": "stdout",
     "output_type": "stream",
     "text": [
      "Fitting ICA to data using 157 channels. \n",
      "Please be patient, this may take some time\n",
      "Inferring max_pca_components from picks.\n",
      "    Rejecting  epoch based on MAG : [u'MEG 029', u'MEG 072', u'MEG 104', u'MEG 114', u'MEG 136', u'MEG 137', u'MEG 140', u'MEG 156']\n",
      "Artifact detected in [11339, 12006]\n",
      "    Rejecting  epoch based on MAG : [u'MEG 029', u'MEG 072', u'MEG 104', u'MEG 114', u'MEG 136', u'MEG 137', u'MEG 140', u'MEG 156']\n",
      "Artifact detected in [13340, 14007]\n",
      "    Rejecting  epoch based on MAG : [u'MEG 025', u'MEG 042', u'MEG 062']\n",
      "Artifact detected in [32683, 33350]\n",
      "    Rejecting  epoch based on MAG : [u'MEG 062']\n",
      "Artifact detected in [33350, 34017]\n",
      "    Rejecting  epoch based on MAG : [u'MEG 042', u'MEG 062']\n",
      "Artifact detected in [34017, 34684]\n",
      "    Rejecting  epoch based on MAG : [u'MEG 042', u'MEG 062']\n",
      "Artifact detected in [34684, 35351]\n",
      "    Rejecting  epoch based on MAG : [u'MEG 029', u'MEG 072', u'MEG 098', u'MEG 104', u'MEG 114', u'MEG 121', u'MEG 137', u'MEG 140', u'MEG 147', u'MEG 156']\n",
      "Artifact detected in [55361, 56028]\n",
      "    Rejecting  epoch based on MAG : [u'MEG 072', u'MEG 140']\n",
      "Artifact detected in [56028, 56695]\n",
      "    Rejecting  epoch based on MAG : [u'MEG 029', u'MEG 030', u'MEG 054', u'MEG 072', u'MEG 098', u'MEG 104', u'MEG 114', u'MEG 121', u'MEG 136', u'MEG 137', u'MEG 140', u'MEG 147', u'MEG 156']\n",
      "Artifact detected in [57362, 58029]\n",
      "    Rejecting  epoch based on MAG : [u'MEG 140', u'MEG 156']\n",
      "Artifact detected in [59363, 60030]\n",
      "    Rejecting  epoch based on MAG : [u'MEG 140']\n",
      "Artifact detected in [60697, 61364]\n",
      "    Rejecting  epoch based on MAG : [u'MEG 029', u'MEG 043', u'MEG 049', u'MEG 054', u'MEG 055', u'MEG 065', u'MEG 072', u'MEG 093', u'MEG 096', u'MEG 097', u'MEG 098', u'MEG 099', u'MEG 102', u'MEG 104', u'MEG 106', u'MEG 107', u'MEG 110', u'MEG 112', u'MEG 114', u'MEG 121', u'MEG 124', u'MEG 125', u'MEG 136', u'MEG 137', u'MEG 140', u'MEG 143', u'MEG 147', u'MEG 148', u'MEG 153', u'MEG 156']\n",
      "Artifact detected in [62698, 63365]\n",
      "    Rejecting  epoch based on MAG : [u'MEG 140']\n",
      "Artifact detected in [63365, 64032]\n",
      "    Rejecting  epoch based on MAG : [u'MEG 029', u'MEG 054', u'MEG 072', u'MEG 098', u'MEG 104', u'MEG 114', u'MEG 121', u'MEG 124', u'MEG 137', u'MEG 140', u'MEG 143', u'MEG 147', u'MEG 156']\n",
      "Artifact detected in [64699, 65366]\n",
      "    Rejecting  epoch based on MAG : [u'MEG 072', u'MEG 140']\n",
      "Artifact detected in [65366, 66033]\n",
      "    Rejecting  epoch based on MAG : [u'MEG 006', u'MEG 029', u'MEG 030', u'MEG 049', u'MEG 072', u'MEG 098', u'MEG 104', u'MEG 114', u'MEG 121', u'MEG 137', u'MEG 140', u'MEG 143', u'MEG 147', u'MEG 156']\n",
      "Artifact detected in [66700, 67367]\n",
      "    Rejecting  epoch based on MAG : [u'MEG 006', u'MEG 029', u'MEG 030', u'MEG 049', u'MEG 054', u'MEG 072', u'MEG 098', u'MEG 104', u'MEG 110', u'MEG 114', u'MEG 121', u'MEG 136', u'MEG 137', u'MEG 140', u'MEG 143', u'MEG 147', u'MEG 148', u'MEG 156']\n",
      "Artifact detected in [68034, 68701]\n",
      "    Rejecting  epoch based on MAG : [u'MEG 006', u'MEG 008', u'MEG 029', u'MEG 030', u'MEG 054', u'MEG 072', u'MEG 097', u'MEG 098', u'MEG 104', u'MEG 111', u'MEG 112', u'MEG 114', u'MEG 136', u'MEG 137', u'MEG 140', u'MEG 143', u'MEG 147', u'MEG 148', u'MEG 153', u'MEG 156']\n",
      "Artifact detected in [88044, 88711]\n",
      "    Rejecting  epoch based on MAG : [u'MEG 006', u'MEG 029', u'MEG 030', u'MEG 049', u'MEG 054', u'MEG 072', u'MEG 093', u'MEG 098', u'MEG 104', u'MEG 114', u'MEG 137', u'MEG 138', u'MEG 140', u'MEG 147', u'MEG 148', u'MEG 156']\n",
      "Artifact detected in [108054, 108721]\n",
      "    Rejecting  epoch based on MAG : [u'MEG 072', u'MEG 137', u'MEG 140']\n",
      "Artifact detected in [108721, 109388]\n",
      "    Rejecting  epoch based on MAG : [u'MEG 029', u'MEG 030', u'MEG 049', u'MEG 054', u'MEG 072', u'MEG 101', u'MEG 104', u'MEG 124', u'MEG 137', u'MEG 140', u'MEG 147']\n",
      "Artifact detected in [110722, 111389]\n",
      "    Rejecting  epoch based on MAG : [u'MEG 021', u'MEG 029', u'MEG 040', u'MEG 043', u'MEG 049', u'MEG 054', u'MEG 055', u'MEG 072', u'MEG 093', u'MEG 104', u'MEG 110', u'MEG 114', u'MEG 121', u'MEG 136', u'MEG 137', u'MEG 140', u'MEG 147', u'MEG 156']\n",
      "Artifact detected in [130732, 131399]\n",
      "    Rejecting  epoch based on MAG : [u'MEG 006', u'MEG 012', u'MEG 021', u'MEG 023', u'MEG 028', u'MEG 030', u'MEG 040', u'MEG 043', u'MEG 049', u'MEG 054', u'MEG 055', u'MEG 057', u'MEG 065', u'MEG 068', u'MEG 093', u'MEG 097', u'MEG 098', u'MEG 099', u'MEG 103', u'MEG 104', u'MEG 106', u'MEG 110', u'MEG 111', u'MEG 114', u'MEG 121', u'MEG 124', u'MEG 136', u'MEG 143', u'MEG 147', u'MEG 151', u'MEG 154']\n",
      "Artifact detected in [162081, 162748]\n",
      "    Rejecting  epoch based on MAG : [u'MEG 029', u'MEG 040', u'MEG 043', u'MEG 049', u'MEG 054', u'MEG 065', u'MEG 072', u'MEG 093', u'MEG 098', u'MEG 099', u'MEG 104', u'MEG 114', u'MEG 121', u'MEG 124', u'MEG 136', u'MEG 137', u'MEG 140', u'MEG 143', u'MEG 147', u'MEG 148', u'MEG 156']\n",
      "Artifact detected in [162748, 163415]\n",
      "    Rejecting  epoch based on MAG : [u'MEG 006', u'MEG 008', u'MEG 012', u'MEG 016', u'MEG 017', u'MEG 020', u'MEG 021', u'MEG 023', u'MEG 024', u'MEG 028', u'MEG 029', u'MEG 030', u'MEG 036', u'MEG 040', u'MEG 042', u'MEG 043', u'MEG 049', u'MEG 054', u'MEG 055', u'MEG 057', u'MEG 065', u'MEG 068', u'MEG 093', u'MEG 096', u'MEG 097', u'MEG 098', u'MEG 099', u'MEG 103', u'MEG 104', u'MEG 106', u'MEG 107', u'MEG 110', u'MEG 111', u'MEG 112', u'MEG 114', u'MEG 119', u'MEG 121', u'MEG 124', u'MEG 125', u'MEG 136', u'MEG 137', u'MEG 138', u'MEG 143', u'MEG 145', u'MEG 147', u'MEG 148', u'MEG 151', u'MEG 153', u'MEG 154']\n",
      "Artifact detected in [164082, 164749]\n",
      "    Rejecting  epoch based on MAG : [u'MEG 029', u'MEG 040', u'MEG 043', u'MEG 054', u'MEG 055', u'MEG 065', u'MEG 072', u'MEG 098', u'MEG 099', u'MEG 104', u'MEG 112', u'MEG 114', u'MEG 121', u'MEG 124', u'MEG 136', u'MEG 137', u'MEG 140', u'MEG 143', u'MEG 147', u'MEG 148', u'MEG 156']\n",
      "Artifact detected in [164749, 165416]\n",
      "    Rejecting  epoch based on MAG : [u'MEG 006', u'MEG 021', u'MEG 023', u'MEG 028', u'MEG 029', u'MEG 030', u'MEG 040', u'MEG 043', u'MEG 049', u'MEG 054', u'MEG 055', u'MEG 057', u'MEG 065', u'MEG 067', u'MEG 068', u'MEG 072', u'MEG 093', u'MEG 096', u'MEG 097', u'MEG 098', u'MEG 099', u'MEG 102', u'MEG 104', u'MEG 106', u'MEG 110', u'MEG 114', u'MEG 121', u'MEG 124', u'MEG 125', u'MEG 136', u'MEG 137', u'MEG 138', u'MEG 140', u'MEG 143', u'MEG 147', u'MEG 148', u'MEG 153', u'MEG 154', u'MEG 156']\n",
      "Artifact detected in [166083, 166750]\n",
      "    Rejecting  epoch based on MAG : [u'MEG 006', u'MEG 008', u'MEG 012', u'MEG 020', u'MEG 021', u'MEG 023', u'MEG 024', u'MEG 027', u'MEG 028', u'MEG 029', u'MEG 030', u'MEG 036', u'MEG 040', u'MEG 043', u'MEG 049', u'MEG 054', u'MEG 055', u'MEG 057', u'MEG 060', u'MEG 065', u'MEG 067', u'MEG 068', u'MEG 079', u'MEG 093', u'MEG 096', u'MEG 097', u'MEG 098', u'MEG 099', u'MEG 102', u'MEG 104', u'MEG 106', u'MEG 110', u'MEG 111', u'MEG 112', u'MEG 114', u'MEG 117', u'MEG 121', u'MEG 124', u'MEG 125', u'MEG 136', u'MEG 137', u'MEG 138', u'MEG 140', u'MEG 143', u'MEG 145', u'MEG 147', u'MEG 148', u'MEG 151', u'MEG 153', u'MEG 154']\n",
      "Artifact detected in [167417, 168084]\n",
      "    Rejecting  epoch based on MAG : [u'MEG 029', u'MEG 040', u'MEG 043', u'MEG 054', u'MEG 065', u'MEG 072', u'MEG 098', u'MEG 104', u'MEG 112', u'MEG 114', u'MEG 136', u'MEG 137', u'MEG 140', u'MEG 147', u'MEG 156']\n",
      "Artifact detected in [168084, 168751]\n",
      "    Rejecting  epoch based on MAG : [u'MEG 006', u'MEG 012', u'MEG 020', u'MEG 021', u'MEG 023', u'MEG 024', u'MEG 028', u'MEG 029', u'MEG 030', u'MEG 040', u'MEG 043', u'MEG 049', u'MEG 054', u'MEG 055', u'MEG 057', u'MEG 065', u'MEG 067', u'MEG 068', u'MEG 072', u'MEG 093', u'MEG 096', u'MEG 097', u'MEG 098', u'MEG 099', u'MEG 102', u'MEG 104', u'MEG 106', u'MEG 110', u'MEG 111', u'MEG 112', u'MEG 114', u'MEG 121', u'MEG 124', u'MEG 125', u'MEG 136', u'MEG 137', u'MEG 138', u'MEG 140', u'MEG 143', u'MEG 147', u'MEG 148', u'MEG 153', u'MEG 154', u'MEG 156']\n",
      "Artifact detected in [169418, 170085]\n",
      "    Rejecting  epoch based on MAG : [u'MEG 006', u'MEG 008', u'MEG 012', u'MEG 016', u'MEG 018', u'MEG 020', u'MEG 021', u'MEG 023', u'MEG 024', u'MEG 027', u'MEG 028', u'MEG 029', u'MEG 030', u'MEG 040', u'MEG 043', u'MEG 049', u'MEG 054', u'MEG 055', u'MEG 057', u'MEG 060', u'MEG 065', u'MEG 067', u'MEG 068', u'MEG 072', u'MEG 093', u'MEG 096', u'MEG 097', u'MEG 098', u'MEG 099', u'MEG 102', u'MEG 104', u'MEG 106', u'MEG 110', u'MEG 111', u'MEG 112', u'MEG 114', u'MEG 116', u'MEG 117', u'MEG 121', u'MEG 124', u'MEG 125', u'MEG 136', u'MEG 137', u'MEG 138', u'MEG 140', u'MEG 143', u'MEG 145', u'MEG 147', u'MEG 148', u'MEG 151', u'MEG 153', u'MEG 154', u'MEG 156']\n"
     ]
    },
    {
     "name": "stdout",
     "output_type": "stream",
     "text": [
      "Artifact detected in [170752, 171419]\n",
      "    Rejecting  epoch based on MAG : [u'MEG 072']\n",
      "Artifact detected in [171419, 172086]\n",
      "    Rejecting  epoch based on MAG : [u'MEG 006', u'MEG 012', u'MEG 021', u'MEG 023', u'MEG 028', u'MEG 029', u'MEG 040', u'MEG 043', u'MEG 049', u'MEG 054', u'MEG 055', u'MEG 057', u'MEG 065', u'MEG 072', u'MEG 093', u'MEG 096', u'MEG 097', u'MEG 098', u'MEG 099', u'MEG 102', u'MEG 104', u'MEG 106', u'MEG 114', u'MEG 121', u'MEG 124', u'MEG 125', u'MEG 136', u'MEG 137', u'MEG 140', u'MEG 143', u'MEG 147', u'MEG 148', u'MEG 156']\n",
      "Artifact detected in [172753, 173420]\n",
      "    Rejecting  epoch based on MAG : [u'MEG 029', u'MEG 040', u'MEG 049', u'MEG 054', u'MEG 055', u'MEG 072', u'MEG 093', u'MEG 098', u'MEG 104', u'MEG 114', u'MEG 121', u'MEG 124', u'MEG 136', u'MEG 137', u'MEG 140', u'MEG 147', u'MEG 148', u'MEG 156']\n",
      "Artifact detected in [174087, 174754]\n",
      "    Rejecting  epoch based on MAG : [u'MEG 029', u'MEG 072', u'MEG 104', u'MEG 114', u'MEG 137', u'MEG 140', u'MEG 147']\n",
      "Artifact detected in [194764, 195431]\n",
      "    Rejecting  epoch based on MAG : [u'MEG 072', u'MEG 114', u'MEG 137', u'MEG 140', u'MEG 156']\n",
      "Artifact detected in [214774, 215441]\n",
      "    Rejecting  epoch based on MAG : [u'MEG 072', u'MEG 140']\n",
      "Artifact detected in [215441, 216108]\n",
      "    Rejecting  epoch based on MAG : [u'MEG 029', u'MEG 030', u'MEG 040', u'MEG 049', u'MEG 054', u'MEG 055', u'MEG 065', u'MEG 072', u'MEG 097', u'MEG 098', u'MEG 099', u'MEG 104', u'MEG 110', u'MEG 114', u'MEG 121', u'MEG 124', u'MEG 136', u'MEG 137', u'MEG 140', u'MEG 143', u'MEG 147', u'MEG 153', u'MEG 156']\n",
      "Artifact detected in [216108, 216775]\n",
      "    Rejecting  epoch based on MAG : [u'MEG 072', u'MEG 140']\n",
      "Artifact detected in [217442, 218109]\n",
      "    Rejecting  epoch based on MAG : [u'MEG 006', u'MEG 008', u'MEG 023', u'MEG 029', u'MEG 030', u'MEG 040', u'MEG 049', u'MEG 054', u'MEG 055', u'MEG 065', u'MEG 072', u'MEG 096', u'MEG 097', u'MEG 098', u'MEG 099', u'MEG 102', u'MEG 104', u'MEG 110', u'MEG 114', u'MEG 121', u'MEG 124', u'MEG 136', u'MEG 137', u'MEG 140', u'MEG 143', u'MEG 147', u'MEG 153', u'MEG 156']\n",
      "Artifact detected in [218109, 218776]\n",
      "    Rejecting  epoch based on MAG : [u'MEG 029', u'MEG 049', u'MEG 054', u'MEG 055', u'MEG 072', u'MEG 098', u'MEG 104', u'MEG 114', u'MEG 121', u'MEG 124', u'MEG 136', u'MEG 137', u'MEG 140', u'MEG 143', u'MEG 147', u'MEG 156']\n",
      "Artifact detected in [220110, 220777]\n",
      "    Rejecting  epoch based on MAG : [u'MEG 029', u'MEG 049', u'MEG 054', u'MEG 072', u'MEG 098', u'MEG 104', u'MEG 110', u'MEG 114', u'MEG 121', u'MEG 124', u'MEG 136', u'MEG 137', u'MEG 140', u'MEG 143', u'MEG 147', u'MEG 156']\n",
      "Artifact detected in [221444, 222111]\n",
      "    Rejecting  epoch based on MAG : [u'MEG 140']\n",
      "Artifact detected in [222111, 222778]\n",
      "    Rejecting  epoch based on MAG : [u'MEG 029', u'MEG 049', u'MEG 054', u'MEG 072', u'MEG 098', u'MEG 104', u'MEG 114', u'MEG 121', u'MEG 137', u'MEG 140', u'MEG 147', u'MEG 156']\n",
      "Artifact detected in [242121, 242788]\n",
      "    Rejecting  epoch based on MAG : [u'MEG 072']\n",
      "Artifact detected in [243455, 244122]\n",
      "    Rejecting  epoch based on MAG : [u'MEG 006', u'MEG 008', u'MEG 029', u'MEG 040', u'MEG 043', u'MEG 054', u'MEG 055', u'MEG 065', u'MEG 072', u'MEG 093', u'MEG 098', u'MEG 104', u'MEG 110', u'MEG 114', u'MEG 124', u'MEG 136', u'MEG 137', u'MEG 140', u'MEG 147', u'MEG 153', u'MEG 156']\n",
      "Artifact detected in [244122, 244789]\n",
      "    Rejecting  epoch based on MAG : [u'MEG 021', u'MEG 029', u'MEG 040', u'MEG 043', u'MEG 049', u'MEG 054', u'MEG 055', u'MEG 065', u'MEG 072', u'MEG 093', u'MEG 098', u'MEG 099', u'MEG 104', u'MEG 110', u'MEG 111', u'MEG 114', u'MEG 136', u'MEG 137', u'MEG 140', u'MEG 147', u'MEG 156']\n",
      "Artifact detected in [264132, 264799]\n",
      "    Rejecting  epoch based on MAG : [u'MEG 006', u'MEG 008', u'MEG 021', u'MEG 029', u'MEG 030', u'MEG 040', u'MEG 043', u'MEG 049', u'MEG 054', u'MEG 055', u'MEG 065', u'MEG 072', u'MEG 093', u'MEG 097', u'MEG 098', u'MEG 104', u'MEG 106', u'MEG 110', u'MEG 111', u'MEG 114', u'MEG 121', u'MEG 124', u'MEG 136', u'MEG 137', u'MEG 140', u'MEG 147', u'MEG 148', u'MEG 154', u'MEG 156']\n",
      "Artifact detected in [284142, 284809]\n",
      "    Rejecting  epoch based on MAG : [u'MEG 030', u'MEG 101', u'MEG 114', u'MEG 140', u'MEG 156']\n",
      "Artifact detected in [304152, 304819]\n",
      "    Rejecting  epoch based on MAG : [u'MEG 140']\n",
      "Artifact detected in [324829, 325496]\n",
      "    Rejecting  epoch based on MAG : [u'MEG 006', u'MEG 008', u'MEG 029', u'MEG 030', u'MEG 036', u'MEG 040', u'MEG 049', u'MEG 054', u'MEG 055', u'MEG 072', u'MEG 097', u'MEG 098', u'MEG 101', u'MEG 104', u'MEG 114', u'MEG 116', u'MEG 121', u'MEG 124', u'MEG 125', u'MEG 136', u'MEG 137', u'MEG 140', u'MEG 147', u'MEG 148', u'MEG 156']\n",
      "Artifact detected in [344839, 345506]\n",
      "    Rejecting  epoch based on MAG : [u'MEG 006', u'MEG 029', u'MEG 030', u'MEG 040', u'MEG 043', u'MEG 054', u'MEG 055', u'MEG 072', u'MEG 098', u'MEG 104', u'MEG 121', u'MEG 136', u'MEG 137', u'MEG 140', u'MEG 147', u'MEG 156']\n",
      "Artifact detected in [346173, 346840]\n",
      "    Rejecting  epoch based on MAG : [u'MEG 006', u'MEG 029', u'MEG 030', u'MEG 040', u'MEG 054', u'MEG 055', u'MEG 072', u'MEG 098', u'MEG 104', u'MEG 121', u'MEG 136', u'MEG 137', u'MEG 140', u'MEG 147', u'MEG 156']\n",
      "Artifact detected in [348174, 348841]\n",
      "    Rejecting  epoch based on MAG : [u'MEG 029', u'MEG 030', u'MEG 049', u'MEG 054', u'MEG 072', u'MEG 098', u'MEG 104', u'MEG 114', u'MEG 121', u'MEG 124', u'MEG 137', u'MEG 140', u'MEG 147']\n",
      "Artifact detected in [350175, 350842]\n",
      "    Rejecting  epoch based on MAG : [u'MEG 072', u'MEG 101']\n",
      "Artifact detected in [351509, 352176]\n",
      "    Rejecting  epoch based on MAG : [u'MEG 006', u'MEG 029', u'MEG 030', u'MEG 036', u'MEG 049', u'MEG 072', u'MEG 098', u'MEG 101', u'MEG 104', u'MEG 114', u'MEG 121', u'MEG 137', u'MEG 140', u'MEG 143', u'MEG 147']\n",
      "Artifact detected in [372186, 372853]\n",
      "    Rejecting  epoch based on MAG : [u'MEG 072', u'MEG 114', u'MEG 140', u'MEG 156']\n",
      "Artifact detected in [392196, 392863]\n",
      "    Rejecting  epoch based on MAG : [u'MEG 006', u'MEG 016', u'MEG 021', u'MEG 023', u'MEG 024', u'MEG 028', u'MEG 029', u'MEG 040', u'MEG 043', u'MEG 054', u'MEG 055', u'MEG 065', u'MEG 072', u'MEG 093', u'MEG 096', u'MEG 098', u'MEG 099', u'MEG 103', u'MEG 104', u'MEG 106', u'MEG 110', u'MEG 114', u'MEG 121', u'MEG 124', u'MEG 136', u'MEG 137', u'MEG 140', u'MEG 143', u'MEG 147', u'MEG 153', u'MEG 156']\n",
      "Artifact detected in [432216, 432883]\n",
      "    Rejecting  epoch based on MAG : [u'MEG 072', u'MEG 140', u'MEG 156']\n",
      "Artifact detected in [452226, 452893]\n",
      "    Rejecting  epoch based on MAG : [u'MEG 029', u'MEG 040', u'MEG 072', u'MEG 104', u'MEG 140', u'MEG 147', u'MEG 156']\n",
      "Artifact detected in [454227, 454894]\n",
      "    Rejecting  epoch based on MAG : [u'MEG 040', u'MEG 043', u'MEG 044', u'MEG 072', u'MEG 147', u'MEG 156']\n",
      "Artifact detected in [474237, 474904]\n",
      "    Rejecting  epoch based on MAG : [u'MEG 072', u'MEG 114', u'MEG 140', u'MEG 156']\n",
      "Artifact detected in [494914, 495581]\n",
      "    Rejecting  epoch based on MAG : [u'MEG 029', u'MEG 072', u'MEG 104', u'MEG 137', u'MEG 140', u'MEG 147']\n",
      "Artifact detected in [530932, 531599]\n",
      "    Rejecting  epoch based on MAG : [u'MEG 029', u'MEG 040', u'MEG 043', u'MEG 044', u'MEG 049', u'MEG 054', u'MEG 055', u'MEG 072', u'MEG 104', u'MEG 136', u'MEG 137', u'MEG 147']\n",
      "Artifact detected in [603635, 604302]\n",
      "    Rejecting  epoch based on MAG : [u'MEG 029', u'MEG 040', u'MEG 049', u'MEG 054', u'MEG 072', u'MEG 104', u'MEG 124', u'MEG 136', u'MEG 137', u'MEG 147']\n",
      "Artifact detected in [623645, 624312]\n",
      "    Rejecting  epoch based on MAG : [u'MEG 072']\n",
      "Artifact detected in [644322, 644989]\n",
      "    Rejecting  epoch based on MAG : [u'MEG 006', u'MEG 021', u'MEG 029', u'MEG 030', u'MEG 040', u'MEG 043', u'MEG 049', u'MEG 054', u'MEG 055', u'MEG 072', u'MEG 097', u'MEG 098', u'MEG 104', u'MEG 106', u'MEG 111', u'MEG 114', u'MEG 121', u'MEG 136', u'MEG 137', u'MEG 140', u'MEG 147', u'MEG 153', u'MEG 156']\n",
      "Artifact detected in [671669, 672336]\n",
      "    Rejecting  epoch based on MAG : [u'MEG 029', u'MEG 040', u'MEG 043', u'MEG 054', u'MEG 055', u'MEG 072', u'MEG 097', u'MEG 104', u'MEG 124', u'MEG 136', u'MEG 137', u'MEG 140', u'MEG 147', u'MEG 156']\n",
      "Artifact detected in [691679, 692346]\n"
     ]
    },
    {
     "name": "stdout",
     "output_type": "stream",
     "text": [
      "    Rejecting  epoch based on MAG : [u'MEG 072', u'MEG 104', u'MEG 137', u'MEG 156']\n",
      "Artifact detected in [692346, 693013]\n",
      "    Rejecting  epoch based on MAG : [u'MEG 029', u'MEG 040', u'MEG 043', u'MEG 044', u'MEG 054', u'MEG 055', u'MEG 072', u'MEG 104', u'MEG 106', u'MEG 124', u'MEG 136', u'MEG 137', u'MEG 140', u'MEG 147', u'MEG 153', u'MEG 156']\n",
      "Artifact detected in [693680, 694347]\n",
      "    Rejecting  epoch based on MAG : [u'MEG 029', u'MEG 040', u'MEG 043', u'MEG 044', u'MEG 054', u'MEG 055', u'MEG 072', u'MEG 104', u'MEG 124', u'MEG 136', u'MEG 137', u'MEG 147', u'MEG 156']\n",
      "Artifact detected in [695681, 696348]\n",
      "    Rejecting  epoch based on MAG : [u'MEG 095']\n",
      "Artifact detected in [696348, 697015]\n",
      "    Rejecting  epoch based on MAG : [u'MEG 040', u'MEG 043', u'MEG 044', u'MEG 054', u'MEG 055', u'MEG 072', u'MEG 104', u'MEG 136', u'MEG 137', u'MEG 147', u'MEG 156']\n",
      "Artifact detected in [697682, 698349]\n",
      "    Rejecting  epoch based on MAG : [u'MEG 043', u'MEG 044', u'MEG 049', u'MEG 054', u'MEG 055', u'MEG 072', u'MEG 104', u'MEG 124', u'MEG 136', u'MEG 137', u'MEG 147', u'MEG 156']\n",
      "Artifact detected in [699683, 700350]\n",
      "    Rejecting  epoch based on MAG : [u'MEG 127', u'MEG 128']\n",
      "Artifact detected in [711022, 711689]\n",
      "    Rejecting  epoch based on MAG : [u'MEG 095', u'MEG 122', u'MEG 123']\n",
      "Artifact detected in [717692, 718359]\n",
      "    Rejecting  epoch based on MAG : [u'MEG 029', u'MEG 030', u'MEG 054', u'MEG 055', u'MEG 072', u'MEG 098', u'MEG 104', u'MEG 124', u'MEG 137', u'MEG 140', u'MEG 147']\n",
      "Artifact detected in [719693, 720360]\n",
      "    Rejecting  epoch based on MAG : [u'MEG 006', u'MEG 029', u'MEG 030', u'MEG 049', u'MEG 054', u'MEG 055', u'MEG 072', u'MEG 097', u'MEG 098', u'MEG 104', u'MEG 114', u'MEG 124', u'MEG 137', u'MEG 140', u'MEG 147']\n",
      "Artifact detected in [721027, 721694]\n",
      "    Rejecting  epoch based on MAG : [u'MEG 006', u'MEG 029', u'MEG 049', u'MEG 054', u'MEG 055', u'MEG 072', u'MEG 098', u'MEG 104', u'MEG 114', u'MEG 124', u'MEG 137', u'MEG 140', u'MEG 147']\n",
      "Artifact detected in [723028, 723695]\n",
      "    Rejecting  epoch based on MAG : [u'MEG 029', u'MEG 054', u'MEG 055', u'MEG 072', u'MEG 098', u'MEG 104', u'MEG 114', u'MEG 121', u'MEG 124', u'MEG 136', u'MEG 137', u'MEG 140', u'MEG 147']\n",
      "Artifact detected in [725029, 725696]\n",
      "    Rejecting  epoch based on MAG : [u'MEG 006', u'MEG 029', u'MEG 054', u'MEG 055', u'MEG 072', u'MEG 098', u'MEG 104', u'MEG 114', u'MEG 136', u'MEG 137', u'MEG 140', u'MEG 147', u'MEG 148']\n",
      "Artifact detected in [726363, 727030]\n",
      "    Rejecting  epoch based on MAG : [u'MEG 072', u'MEG 104', u'MEG 137']\n",
      "Artifact detected in [727030, 727697]\n",
      "    Rejecting  epoch based on MAG : [u'MEG 012', u'MEG 021', u'MEG 029', u'MEG 040', u'MEG 049', u'MEG 054', u'MEG 055', u'MEG 057', u'MEG 065', u'MEG 072', u'MEG 097', u'MEG 098', u'MEG 104', u'MEG 106', u'MEG 114', u'MEG 121', u'MEG 124', u'MEG 136', u'MEG 137', u'MEG 140', u'MEG 143', u'MEG 147', u'MEG 153', u'MEG 156']\n",
      "Artifact detected in [747040, 747707]\n",
      "    Rejecting  epoch based on MAG : [u'MEG 012', u'MEG 020', u'MEG 021', u'MEG 023', u'MEG 028', u'MEG 029', u'MEG 030', u'MEG 040', u'MEG 044', u'MEG 049', u'MEG 054', u'MEG 055', u'MEG 057', u'MEG 065', u'MEG 068', u'MEG 072', u'MEG 093', u'MEG 096', u'MEG 097', u'MEG 098', u'MEG 099', u'MEG 104', u'MEG 110', u'MEG 114', u'MEG 116', u'MEG 117', u'MEG 119', u'MEG 121', u'MEG 124', u'MEG 125', u'MEG 136', u'MEG 137', u'MEG 140', u'MEG 145', u'MEG 147', u'MEG 153', u'MEG 156']\n",
      "Artifact detected in [749041, 749708]\n",
      "    Rejecting  epoch based on MAG : [u'MEG 072', u'MEG 104', u'MEG 137']\n",
      "Artifact detected in [750375, 751042]\n",
      "    Rejecting  epoch based on MAG : [u'MEG 072']\n",
      "Artifact detected in [751709, 752376]\n",
      "    Rejecting  epoch based on MAG : [u'MEG 029', u'MEG 040', u'MEG 043', u'MEG 054', u'MEG 072', u'MEG 104', u'MEG 136', u'MEG 137', u'MEG 140', u'MEG 147', u'MEG 153', u'MEG 156']\n",
      "Artifact detected in [753043, 753710]\n",
      "    Rejecting  epoch based on MAG : [u'MEG 029', u'MEG 040', u'MEG 043', u'MEG 054', u'MEG 055', u'MEG 072', u'MEG 104', u'MEG 114', u'MEG 136', u'MEG 137', u'MEG 140', u'MEG 147', u'MEG 153', u'MEG 156']\n",
      "Artifact detected in [754377, 755044]\n",
      "    Rejecting  epoch based on MAG : [u'MEG 029', u'MEG 054', u'MEG 072', u'MEG 104', u'MEG 136', u'MEG 137', u'MEG 140', u'MEG 147', u'MEG 156']\n",
      "Artifact detected in [755044, 755711]\n",
      "    Rejecting  epoch based on MAG : [u'MEG 030', u'MEG 049', u'MEG 072', u'MEG 101', u'MEG 124', u'MEG 137', u'MEG 147']\n",
      "Artifact detected in [775054, 775721]\n",
      "    Rejecting  epoch based on MAG : [u'MEG 044', u'MEG 072', u'MEG 156']\n",
      "Artifact detected in [795064, 795731]\n",
      "    Rejecting  epoch based on MAG : [u'MEG 021', u'MEG 043', u'MEG 044', u'MEG 054', u'MEG 055', u'MEG 104', u'MEG 114', u'MEG 124', u'MEG 136', u'MEG 147', u'MEG 153', u'MEG 156']\n",
      "Artifact detected in [815074, 815741]\n",
      "    Rejecting  epoch based on MAG : [u'MEG 029', u'MEG 040', u'MEG 043', u'MEG 044', u'MEG 052', u'MEG 054', u'MEG 075', u'MEG 092', u'MEG 104', u'MEG 124', u'MEG 125', u'MEG 137', u'MEG 147', u'MEG 156']\n",
      "Artifact detected in [815741, 816408]\n",
      "    Rejecting  epoch based on MAG : [u'MEG 040', u'MEG 043', u'MEG 049', u'MEG 054', u'MEG 072', u'MEG 104', u'MEG 136', u'MEG 147', u'MEG 156']\n",
      "Artifact detected in [835751, 836418]\n",
      "Selection by number: 157 components\n"
     ]
    }
   ],
   "source": [
    "ica = ICA(n_components=n_components, method=method, random_state=random_state)\n",
    "# print(ica)\n",
    "reject = dict(mag=5e-12, grad=4000e-13)\n",
    "ica.fit(raw_40_ica, picks=picks, decim=decim, reject=reject)\n",
    "print(ica)\n",
    "ica.plot_components()"
   ]
  },
  {
   "cell_type": "code",
   "execution_count": null,
   "metadata": {},
   "outputs": [],
   "source": [
    "epochs = mne.Epochs(raw_40, events, event_id, tmin, tmax, proj=False, picks=picks, baseline=baseline) \n",
    "epochs_ica = mne.Epochs(raw_40_ica, events, event_id, tmin, tmax, proj=False, picks=picks, baseline=baseline) \n",
    "evoked1 = epochs['tone1'].average()\n",
    "evoked2 = epochs_ica['tone1'].average()\n",
    "evoked1.plot()\n",
    "evoked2.plot()"
   ]
  },
  {
   "cell_type": "code",
   "execution_count": null,
   "metadata": {},
   "outputs": [],
   "source": [
    "evoked1.plot(spatial_colors=True, gfp=True, ylim=dict(mag=[-300,300]))\n",
    "evoked2.plot(spatial_colors=True, gfp=True, ylim=dict(mag=[-300,300]))\n",
    "evoked1.plot_topomap(times=[.05, .10, .15],vmin=-300,vmax=300)\n",
    "evoked2.plot_topomap(times=[.05, .10, .15],vmin=-300,vmax=300)\n",
    "evoked_dict = dict() \n",
    "evoked_dict['low'] = evoked1\n",
    "evoked_dict['high'] = evoked2\n",
    "colors=dict(low=\"Crimson\",high=\"CornFlowerBlue\") \n",
    "mne.viz.plot_compare_evokeds(evoked_dict, colors=colors,\n",
    "picks=picks, gfp=True)"
   ]
  },
  {
   "cell_type": "code",
   "execution_count": null,
   "metadata": {},
   "outputs": [],
   "source": [
    "\n",
    "la=[0,1,2,3,39,41,42,43,44,52,58,67,71,80,82,83,84,85,108,130,131,132,133,134,135,136,151]\n",
    "lp=[4,5,6,7,8,9,34,36,37,38,40,45,46,47,48,49,50,75,76,77,79,87,88,90,127,129,137]\n",
    "ra=[20,22,23,24,26,59,60,61,62,63,65,89,92,95,99,100,114,115,116,117,118,145,147,148,152,155]\n",
    "rp=[14,15,16,17,18,19,25,27,28,30,53,54,56,57,66,68,69,70,94,96,97,119,121,122,143,144]\n",
    "lh=[0,1,2,3,39,41,42,43,44,52,58,67,71,80,82,83,84,85,108,130,131,132,133,134,135,136,151,4,5,6,7,8,9,34,36,37,38,40,45,46,47,48,49,50,75,76,77,79,87,88,90,127,129,137]\n",
    "rh=[20,22,23,24,26,59,60,61,62,63,65,89,92,95,99,100,114,115,116,117,118,145,147,148,152,155, 14,15,16,17,18,19,25,27,28,30,53,54,56,57,66,68,69,70,94,96,97,119,121,122,143,144]\n",
    "mne.viz.plot_compare_evokeds(evoked_dict, colors=colors,\n",
    "picks=lh, gfp=True, ylim=dict(mag=[0,100]))"
   ]
  }
 ],
 "metadata": {
  "kernelspec": {
   "display_name": "Python 2",
   "language": "python",
   "name": "python2"
  },
  "language_info": {
   "codemirror_mode": {
    "name": "ipython",
    "version": 2
   },
   "file_extension": ".py",
   "mimetype": "text/x-python",
   "name": "python",
   "nbconvert_exporter": "python",
   "pygments_lexer": "ipython2",
   "version": "2.7.12"
  }
 },
 "nbformat": 4,
 "nbformat_minor": 2
}
